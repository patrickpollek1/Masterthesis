{
 "cells": [
  {
   "cell_type": "code",
   "execution_count": 1,
   "id": "f6a9d3a6",
   "metadata": {},
   "outputs": [],
   "source": [
    "import pandas as pd\n",
    "import matplotlib.pyplot as plt\n",
    "import numpy as np\n",
    "import seaborn as sns\n",
    "import torch\n",
    "import torch.nn as nn\n",
    "import torch.optim as optim\n",
    "from torch.utils.data import DataLoader\n",
    "from sklearn.model_selection import train_test_split\n",
    "from torch.utils.data import Dataset, DataLoader\n",
    "from sklearn.model_selection import KFold\n",
    "from torch.utils.data import DataLoader, TensorDataset\n",
    "from sklearn.metrics import r2_score"
   ]
  },
  {
   "cell_type": "code",
   "execution_count": 19,
   "id": "baab46fb",
   "metadata": {},
   "outputs": [],
   "source": [
    "X_train = pd.read_csv('../../datasets/Toy/X_train.csv',index_col=0)  \n",
    "X_test = pd.read_csv('../../datasets/Toy/X_test.csv',index_col=0)  \n",
    "y_train = pd.read_csv('../../datasets/Toy/y_train.csv',index_col=0)  \n",
    "y_test = pd.read_csv('../../datasets/Toy/y_test.csv',index_col=0)  \n",
    "\n",
    "split_ratio = 0.2\n",
    "\n",
    "X_train, X_val, y_train, y_val = train_test_split(X_train, y_train, test_size=split_ratio, random_state=42)\n",
    "X_train_con=X_train.drop(columns=['x1'])\n",
    "X_val_con=X_val.drop(columns=['x1'])\n",
    "X_test_con=X_test.drop(columns=['x1'])"
   ]
  },
  {
   "cell_type": "code",
   "execution_count": 20,
   "id": "f7ebae2b",
   "metadata": {},
   "outputs": [
    {
     "data": {
      "text/html": [
       "<div>\n",
       "<style scoped>\n",
       "    .dataframe tbody tr th:only-of-type {\n",
       "        vertical-align: middle;\n",
       "    }\n",
       "\n",
       "    .dataframe tbody tr th {\n",
       "        vertical-align: top;\n",
       "    }\n",
       "\n",
       "    .dataframe thead th {\n",
       "        text-align: right;\n",
       "    }\n",
       "</style>\n",
       "<table border=\"1\" class=\"dataframe\">\n",
       "  <thead>\n",
       "    <tr style=\"text-align: right;\">\n",
       "      <th></th>\n",
       "      <th>x0</th>\n",
       "      <th>x2</th>\n",
       "      <th>x3</th>\n",
       "      <th>x4</th>\n",
       "      <th>x5</th>\n",
       "    </tr>\n",
       "  </thead>\n",
       "  <tbody>\n",
       "    <tr>\n",
       "      <th>97651</th>\n",
       "      <td>0.554358</td>\n",
       "      <td>0.052736</td>\n",
       "      <td>0.505530</td>\n",
       "      <td>165.739262</td>\n",
       "      <td>1</td>\n",
       "    </tr>\n",
       "    <tr>\n",
       "      <th>45938</th>\n",
       "      <td>-0.435011</td>\n",
       "      <td>0.893536</td>\n",
       "      <td>0.800912</td>\n",
       "      <td>158.539590</td>\n",
       "      <td>0</td>\n",
       "    </tr>\n",
       "    <tr>\n",
       "      <th>66358</th>\n",
       "      <td>2.746904</td>\n",
       "      <td>-0.283311</td>\n",
       "      <td>1.418933</td>\n",
       "      <td>163.893527</td>\n",
       "      <td>1</td>\n",
       "    </tr>\n",
       "    <tr>\n",
       "      <th>62628</th>\n",
       "      <td>3.671753</td>\n",
       "      <td>1.066627</td>\n",
       "      <td>3.190901</td>\n",
       "      <td>154.704743</td>\n",
       "      <td>1</td>\n",
       "    </tr>\n",
       "    <tr>\n",
       "      <th>89874</th>\n",
       "      <td>3.282473</td>\n",
       "      <td>0.571231</td>\n",
       "      <td>1.972984</td>\n",
       "      <td>160.736258</td>\n",
       "      <td>1</td>\n",
       "    </tr>\n",
       "    <tr>\n",
       "      <th>...</th>\n",
       "      <td>...</td>\n",
       "      <td>...</td>\n",
       "      <td>...</td>\n",
       "      <td>...</td>\n",
       "      <td>...</td>\n",
       "    </tr>\n",
       "    <tr>\n",
       "      <th>145783</th>\n",
       "      <td>0.317447</td>\n",
       "      <td>-1.194427</td>\n",
       "      <td>2.243835</td>\n",
       "      <td>164.407875</td>\n",
       "      <td>1</td>\n",
       "    </tr>\n",
       "    <tr>\n",
       "      <th>58423</th>\n",
       "      <td>1.532524</td>\n",
       "      <td>-1.401718</td>\n",
       "      <td>2.353885</td>\n",
       "      <td>163.188793</td>\n",
       "      <td>0</td>\n",
       "    </tr>\n",
       "    <tr>\n",
       "      <th>53791</th>\n",
       "      <td>0.215282</td>\n",
       "      <td>-0.135332</td>\n",
       "      <td>0.649558</td>\n",
       "      <td>168.378115</td>\n",
       "      <td>1</td>\n",
       "    </tr>\n",
       "    <tr>\n",
       "      <th>156820</th>\n",
       "      <td>0.290969</td>\n",
       "      <td>0.682983</td>\n",
       "      <td>1.076200</td>\n",
       "      <td>165.634839</td>\n",
       "      <td>1</td>\n",
       "    </tr>\n",
       "    <tr>\n",
       "      <th>142003</th>\n",
       "      <td>0.948206</td>\n",
       "      <td>-0.388727</td>\n",
       "      <td>0.935289</td>\n",
       "      <td>164.050563</td>\n",
       "      <td>1</td>\n",
       "    </tr>\n",
       "  </tbody>\n",
       "</table>\n",
       "<p>128000 rows × 5 columns</p>\n",
       "</div>"
      ],
      "text/plain": [
       "              x0        x2        x3          x4  x5\n",
       "97651   0.554358  0.052736  0.505530  165.739262   1\n",
       "45938  -0.435011  0.893536  0.800912  158.539590   0\n",
       "66358   2.746904 -0.283311  1.418933  163.893527   1\n",
       "62628   3.671753  1.066627  3.190901  154.704743   1\n",
       "89874   3.282473  0.571231  1.972984  160.736258   1\n",
       "...          ...       ...       ...         ...  ..\n",
       "145783  0.317447 -1.194427  2.243835  164.407875   1\n",
       "58423   1.532524 -1.401718  2.353885  163.188793   0\n",
       "53791   0.215282 -0.135332  0.649558  168.378115   1\n",
       "156820  0.290969  0.682983  1.076200  165.634839   1\n",
       "142003  0.948206 -0.388727  0.935289  164.050563   1\n",
       "\n",
       "[128000 rows x 5 columns]"
      ]
     },
     "execution_count": 20,
     "metadata": {},
     "output_type": "execute_result"
    }
   ],
   "source": [
    "X_train_con"
   ]
  },
  {
   "cell_type": "code",
   "execution_count": 21,
   "id": "b4b9a1b8",
   "metadata": {},
   "outputs": [
    {
     "data": {
      "text/plain": [
       "Index(['x0', 'x1', 'x2', 'x3', 'x4', 'x5'], dtype='object')"
      ]
     },
     "execution_count": 21,
     "metadata": {},
     "output_type": "execute_result"
    }
   ],
   "source": [
    "X_train.columns"
   ]
  },
  {
   "cell_type": "code",
   "execution_count": 5,
   "id": "d37bfd11",
   "metadata": {},
   "outputs": [
    {
     "data": {
      "text/html": [
       "<div>\n",
       "<style scoped>\n",
       "    .dataframe tbody tr th:only-of-type {\n",
       "        vertical-align: middle;\n",
       "    }\n",
       "\n",
       "    .dataframe tbody tr th {\n",
       "        vertical-align: top;\n",
       "    }\n",
       "\n",
       "    .dataframe thead th {\n",
       "        text-align: right;\n",
       "    }\n",
       "</style>\n",
       "<table border=\"1\" class=\"dataframe\">\n",
       "  <thead>\n",
       "    <tr style=\"text-align: right;\">\n",
       "      <th></th>\n",
       "      <th>y</th>\n",
       "    </tr>\n",
       "  </thead>\n",
       "  <tbody>\n",
       "    <tr>\n",
       "      <th>73032</th>\n",
       "      <td>1617.993424</td>\n",
       "    </tr>\n",
       "    <tr>\n",
       "      <th>193271</th>\n",
       "      <td>1780.596763</td>\n",
       "    </tr>\n",
       "    <tr>\n",
       "      <th>66713</th>\n",
       "      <td>1679.185088</td>\n",
       "    </tr>\n",
       "    <tr>\n",
       "      <th>92710</th>\n",
       "      <td>1842.917089</td>\n",
       "    </tr>\n",
       "    <tr>\n",
       "      <th>12849</th>\n",
       "      <td>1614.700338</td>\n",
       "    </tr>\n",
       "    <tr>\n",
       "      <th>...</th>\n",
       "      <td>...</td>\n",
       "    </tr>\n",
       "    <tr>\n",
       "      <th>90175</th>\n",
       "      <td>1620.016923</td>\n",
       "    </tr>\n",
       "    <tr>\n",
       "      <th>186257</th>\n",
       "      <td>1619.385255</td>\n",
       "    </tr>\n",
       "    <tr>\n",
       "      <th>98550</th>\n",
       "      <td>1658.525709</td>\n",
       "    </tr>\n",
       "    <tr>\n",
       "      <th>28035</th>\n",
       "      <td>1621.077476</td>\n",
       "    </tr>\n",
       "    <tr>\n",
       "      <th>151249</th>\n",
       "      <td>1659.871408</td>\n",
       "    </tr>\n",
       "  </tbody>\n",
       "</table>\n",
       "<p>40000 rows × 1 columns</p>\n",
       "</div>"
      ],
      "text/plain": [
       "                  y\n",
       "73032   1617.993424\n",
       "193271  1780.596763\n",
       "66713   1679.185088\n",
       "92710   1842.917089\n",
       "12849   1614.700338\n",
       "...             ...\n",
       "90175   1620.016923\n",
       "186257  1619.385255\n",
       "98550   1658.525709\n",
       "28035   1621.077476\n",
       "151249  1659.871408\n",
       "\n",
       "[40000 rows x 1 columns]"
      ]
     },
     "execution_count": 5,
     "metadata": {},
     "output_type": "execute_result"
    }
   ],
   "source": [
    "y_test"
   ]
  },
  {
   "cell_type": "code",
   "execution_count": 22,
   "id": "31344bee",
   "metadata": {},
   "outputs": [],
   "source": [
    "from sklearn.preprocessing import StandardScaler\n",
    "scaler = StandardScaler()\n",
    "X_train_scaled = scaler.fit_transform(X_train_con)\n",
    "X_val_scaled = scaler.transform(X_val_con)\n",
    "X_test_scaled = scaler.transform(X_test_con)"
   ]
  },
  {
   "cell_type": "code",
   "execution_count": 23,
   "id": "c063a831",
   "metadata": {},
   "outputs": [],
   "source": [
    "import torch.nn as nn\n",
    "\n",
    "class Net(nn.Module):\n",
    "    def __init__(self, hidden_layers, hidden_units, dropout, dropout_array, input_dim, output_dim, activation=nn.ReLU(),norm=False):\n",
    "        if hidden_layers != len(hidden_units):\n",
    "            print(\"Error: wrong size of hidden_layers or hidden_units\")\n",
    "            return\n",
    "        layers = []\n",
    "        i = 0\n",
    "        if norm:\n",
    "            layers.append(nn.BatchNorm1d(input_dim))\n",
    "\n",
    "        super(Net, self).__init__()\n",
    "        \n",
    "        layers.append(nn.Linear(input_dim, hidden_units[i]))\n",
    "        layers.append(activation)\n",
    "        if dropout:\n",
    "            layers.append(nn.Dropout(dropout_array[i]))\n",
    "\n",
    "        for _ in range(hidden_layers - 1):\n",
    "            i += 1\n",
    "            layers.append(nn.Linear(hidden_units[i-1], hidden_units[i]))\n",
    "            layers.append(activation)\n",
    "            if dropout:\n",
    "                layers.append(nn.Dropout(dropout_array[i]))\n",
    "\n",
    "        layers.append(nn.Linear(hidden_units[-1], output_dim))\n",
    "        self.net = nn.Sequential(*layers)\n",
    "\n",
    "    def forward(self, x):\n",
    "        x = x.view(x.size(0), -1)\n",
    "        return self.net(x)\n"
   ]
  },
  {
   "cell_type": "code",
   "execution_count": 24,
   "id": "85b03d98",
   "metadata": {},
   "outputs": [],
   "source": [
    "config={'batch_size': 53, 'lr': 0.00038488608963589005, 'num_epochs': 100, 'hidden_layers': 3, 'hidden_units': [64, 32, 32], 'dropout': False, 'dropout_array': [0.38283509966903684, 0.14655095633529086, 0.5393755103727268], 'activation': nn.ReLU(), 'norm': True,'patience': 20}\n",
    "\n",
    "input_dim = X_train_scaled.shape[1]\n",
    "output_dim = 1"
   ]
  },
  {
   "cell_type": "code",
   "execution_count": 25,
   "id": "6d98f475",
   "metadata": {},
   "outputs": [],
   "source": [
    "train_ds = TensorDataset(torch.Tensor(X_train_scaled), torch.Tensor(y_train.to_numpy()))\n",
    "val_ds = TensorDataset(torch.Tensor(X_val_scaled), torch.Tensor(y_val.to_numpy()))\n",
    "test_ds = TensorDataset(torch.Tensor(X_test_scaled), torch.Tensor(y_test.to_numpy()))"
   ]
  },
  {
   "cell_type": "code",
   "execution_count": 26,
   "id": "d41afbe8",
   "metadata": {},
   "outputs": [],
   "source": [
    "train_loader = DataLoader(train_ds, batch_size=config[\"batch_size\"], shuffle=True)\n",
    "test_loader = DataLoader(test_ds, batch_size=config[\"batch_size\"])"
   ]
  },
  {
   "cell_type": "code",
   "execution_count": 27,
   "id": "e4181bd0",
   "metadata": {},
   "outputs": [],
   "source": [
    "net = Net(hidden_layers=config[\"hidden_layers\"], hidden_units=config[\"hidden_units\"], dropout=config[\"dropout\"], dropout_array=config[\"dropout_array\"], input_dim=input_dim, output_dim=output_dim, activation=config[\"activation\"], norm=config[\"norm\"])"
   ]
  },
  {
   "cell_type": "code",
   "execution_count": 28,
   "id": "b5739b10",
   "metadata": {},
   "outputs": [],
   "source": [
    "from torchsummary import summary\n",
    "device = torch.device(\"cuda\" if torch.cuda.is_available() else \"cpu\") # PyTorch v0.4.0\n",
    "net = net.to(device)"
   ]
  },
  {
   "cell_type": "code",
   "execution_count": 29,
   "id": "f77f2594",
   "metadata": {},
   "outputs": [
    {
     "name": "stdout",
     "output_type": "stream",
     "text": [
      "----------------------------------------------------------------\n",
      "        Layer (type)               Output Shape         Param #\n",
      "================================================================\n",
      "       BatchNorm1d-1                    [-1, 5]              10\n",
      "            Linear-2                   [-1, 64]             384\n",
      "              ReLU-3                   [-1, 64]               0\n",
      "            Linear-4                   [-1, 32]           2,080\n",
      "              ReLU-5                   [-1, 32]               0\n",
      "            Linear-6                   [-1, 32]           1,056\n",
      "              ReLU-7                   [-1, 32]               0\n",
      "            Linear-8                    [-1, 1]              33\n",
      "================================================================\n",
      "Total params: 3,563\n",
      "Trainable params: 3,563\n",
      "Non-trainable params: 0\n",
      "----------------------------------------------------------------\n",
      "Input size (MB): 0.00\n",
      "Forward/backward pass size (MB): 0.00\n",
      "Params size (MB): 0.01\n",
      "Estimated Total Size (MB): 0.02\n",
      "----------------------------------------------------------------\n"
     ]
    }
   ],
   "source": [
    "summary(net,input_size=(5,1))"
   ]
  },
  {
   "cell_type": "code",
   "execution_count": 30,
   "id": "9a3b380a",
   "metadata": {},
   "outputs": [],
   "source": [
    "class RMSELoss(nn.Module):\n",
    "    def __init__(self):\n",
    "        super().__init__()\n",
    "        self.mse = nn.MSELoss()\n",
    "        \n",
    "    def forward(self,yhat,y):\n",
    "        return torch.sqrt(self.mse(yhat,y))"
   ]
  },
  {
   "cell_type": "code",
   "execution_count": 31,
   "id": "307976d1",
   "metadata": {},
   "outputs": [],
   "source": [
    "criterion = RMSELoss()\n",
    "optimizer = optim.Adam(net.parameters(), lr=config[\"lr\"])"
   ]
  },
  {
   "cell_type": "code",
   "execution_count": 45,
   "id": "04d3c631",
   "metadata": {},
   "outputs": [],
   "source": [
    "def train_net(net, train_loader, criterion, optimizer, device):\n",
    "    net.train()\n",
    "    train_loss = 0\n",
    "    for i, (inputs, targets) in enumerate(train_loader):\n",
    "        inputs, targets = inputs.to(device), targets.to(device).view(-1, 1)\n",
    "\n",
    "        optimizer.zero_grad()\n",
    "\n",
    "        outputs = net(inputs)\n",
    "        loss = criterion(outputs, targets)\n",
    "        loss.backward()\n",
    "        optimizer.step()\n",
    "\n",
    "        train_loss += loss.item()\n",
    "\n",
    "    return train_loss / len(train_loader), net\n",
    "\n",
    "\n",
    "def test_net(net, test_loader, criterion, device):\n",
    "    net.eval()\n",
    "    test_loss = 0\n",
    "    with torch.no_grad():\n",
    "        for inputs, targets in test_loader:\n",
    "            inputs, targets = inputs.to(device), targets.to(device).view(-1, 1)\n",
    "\n",
    "            outputs = net(inputs)\n",
    "            loss = criterion(outputs, targets)\n",
    "\n",
    "            test_loss += loss.item()\n",
    "\n",
    "    return test_loss / len(test_loader)\n",
    "\n",
    "\n",
    "def train(config):\n",
    "    train_loader = DataLoader(train_ds, batch_size=config[\"batch_size\"], shuffle=True)\n",
    "    val_loader = DataLoader(val_ds, batch_size=config[\"batch_size\"])\n",
    "    net = Net(hidden_layers=config[\"hidden_layers\"], hidden_units=config[\"hidden_units\"], dropout=config[\"dropout\"], dropout_array=config[\"dropout_array\"], input_dim=input_dim, output_dim=output_dim, activation=config[\"activation\"], norm=config[\"norm\"])\n",
    "    criterion = RMSELoss()\n",
    "    optimizer = optim.Adam(net.parameters(), lr=config[\"lr\"])\n",
    "    device = torch.device(\"cuda\" if torch.cuda.is_available() else \"cpu\")\n",
    "    net.to(device)\n",
    "\n",
    "    train_losses = []\n",
    "    val_losses = []\n",
    "\n",
    "    best_val_loss = float(\"inf\")\n",
    "    patience = config['patience']\n",
    "    early_stop = False\n",
    "\n",
    "    for epoch in range(config[\"num_epochs\"]):\n",
    "        train_loss,net = train_net(net, train_loader, criterion, optimizer, device)\n",
    "        val_loss = test_net(net, val_loader, criterion, device)\n",
    "\n",
    "        train_losses.append(train_loss)\n",
    "        val_losses.append(val_loss)\n",
    "\n",
    "        print(f\"Epoch [{epoch+1}/{config['num_epochs']}], Train Loss: {train_loss:.4f}, Test Loss: {val_loss:.4f}\")\n",
    "\n",
    "        # Early stopping\n",
    "        if val_loss < best_val_loss:\n",
    "            best_val_loss = val_loss\n",
    "            patience = config['patience']\n",
    "        else:\n",
    "            patience -= 1\n",
    "            if patience == 0:\n",
    "                print(\"Early stopping...\")\n",
    "                early_stop = True\n",
    "                break\n",
    "\n",
    "    if not early_stop:\n",
    "        print(\"Training complete.\")\n",
    "\n",
    "    return train_losses, val_losses, net\n"
   ]
  },
  {
   "cell_type": "code",
   "execution_count": 46,
   "id": "a7cc5031",
   "metadata": {},
   "outputs": [
    {
     "name": "stdout",
     "output_type": "stream",
     "text": [
      "Epoch [1/100], Train Loss: 392.6650, Test Loss: 62.2483\n",
      "Epoch [2/100], Train Loss: 60.5808, Test Loss: 22.5027\n",
      "Epoch [3/100], Train Loss: 25.5723, Test Loss: 11.0856\n",
      "Epoch [4/100], Train Loss: 14.8443, Test Loss: 9.8757\n",
      "Epoch [5/100], Train Loss: 12.1015, Test Loss: 7.9051\n",
      "Epoch [6/100], Train Loss: 11.1151, Test Loss: 10.7783\n",
      "Epoch [7/100], Train Loss: 10.8474, Test Loss: 6.8381\n",
      "Epoch [8/100], Train Loss: 10.6137, Test Loss: 7.8350\n",
      "Epoch [9/100], Train Loss: 10.4767, Test Loss: 7.5540\n",
      "Epoch [10/100], Train Loss: 10.5473, Test Loss: 6.3963\n",
      "Epoch [11/100], Train Loss: 10.4404, Test Loss: 9.0901\n",
      "Epoch [12/100], Train Loss: 10.5526, Test Loss: 6.5355\n",
      "Epoch [13/100], Train Loss: 10.5379, Test Loss: 6.4227\n",
      "Epoch [14/100], Train Loss: 10.3878, Test Loss: 7.5827\n",
      "Epoch [15/100], Train Loss: 10.3152, Test Loss: 6.5053\n",
      "Epoch [16/100], Train Loss: 10.3406, Test Loss: 6.2684\n",
      "Epoch [17/100], Train Loss: 10.3708, Test Loss: 8.9725\n",
      "Epoch [18/100], Train Loss: 10.3107, Test Loss: 7.5543\n",
      "Epoch [19/100], Train Loss: 10.4280, Test Loss: 6.3886\n",
      "Epoch [20/100], Train Loss: 10.2719, Test Loss: 8.1989\n",
      "Epoch [21/100], Train Loss: 10.2150, Test Loss: 8.3035\n",
      "Epoch [22/100], Train Loss: 10.3530, Test Loss: 7.2566\n",
      "Epoch [23/100], Train Loss: 10.2933, Test Loss: 6.2491\n",
      "Epoch [24/100], Train Loss: 10.2741, Test Loss: 7.7903\n",
      "Epoch [25/100], Train Loss: 10.2788, Test Loss: 8.8035\n",
      "Epoch [26/100], Train Loss: 10.2820, Test Loss: 10.6800\n",
      "Epoch [27/100], Train Loss: 10.2341, Test Loss: 6.3355\n",
      "Epoch [28/100], Train Loss: 10.2480, Test Loss: 6.6678\n",
      "Epoch [29/100], Train Loss: 10.2374, Test Loss: 8.8800\n",
      "Epoch [30/100], Train Loss: 10.1366, Test Loss: 7.9892\n",
      "Epoch [31/100], Train Loss: 10.0479, Test Loss: 7.7052\n",
      "Epoch [32/100], Train Loss: 10.1144, Test Loss: 6.5642\n",
      "Epoch [33/100], Train Loss: 10.2093, Test Loss: 6.7334\n",
      "Epoch [34/100], Train Loss: 10.2239, Test Loss: 6.8132\n",
      "Epoch [35/100], Train Loss: 10.1079, Test Loss: 6.0812\n",
      "Epoch [36/100], Train Loss: 10.1117, Test Loss: 7.7366\n",
      "Epoch [37/100], Train Loss: 9.9922, Test Loss: 8.7113\n",
      "Epoch [38/100], Train Loss: 10.1607, Test Loss: 7.7563\n",
      "Epoch [39/100], Train Loss: 10.0783, Test Loss: 7.1604\n",
      "Epoch [40/100], Train Loss: 10.1111, Test Loss: 8.8769\n",
      "Epoch [41/100], Train Loss: 10.2620, Test Loss: 6.8114\n",
      "Epoch [42/100], Train Loss: 9.9455, Test Loss: 6.4024\n",
      "Epoch [43/100], Train Loss: 10.1752, Test Loss: 8.4188\n",
      "Epoch [44/100], Train Loss: 10.2804, Test Loss: 8.8762\n",
      "Epoch [45/100], Train Loss: 10.0930, Test Loss: 6.1213\n",
      "Epoch [46/100], Train Loss: 10.1365, Test Loss: 7.5912\n",
      "Epoch [47/100], Train Loss: 10.1602, Test Loss: 6.5378\n",
      "Epoch [48/100], Train Loss: 10.0921, Test Loss: 6.4567\n",
      "Epoch [49/100], Train Loss: 10.0292, Test Loss: 8.5164\n",
      "Epoch [50/100], Train Loss: 10.1273, Test Loss: 8.2836\n",
      "Epoch [51/100], Train Loss: 10.1039, Test Loss: 6.3407\n",
      "Epoch [52/100], Train Loss: 10.1209, Test Loss: 7.8809\n",
      "Epoch [53/100], Train Loss: 10.1172, Test Loss: 6.9198\n",
      "Epoch [54/100], Train Loss: 10.1344, Test Loss: 7.5615\n",
      "Epoch [55/100], Train Loss: 10.1748, Test Loss: 6.7920\n",
      "Early stopping...\n"
     ]
    }
   ],
   "source": [
    "train_losses, val_losses, mod = train(config)"
   ]
  },
  {
   "cell_type": "code",
   "execution_count": 47,
   "id": "f8a46018",
   "metadata": {},
   "outputs": [],
   "source": [
    "def plot_losses(train_losses, val_losses):\n",
    "    plt.plot(train_losses, label=\"Train Loss\")\n",
    "    plt.plot(val_losses, label=\"val Loss\")\n",
    "    plt.xlabel(\"Epoch\")\n",
    "    plt.ylabel(\"Loss\")\n",
    "    plt.legend()\n",
    "    plt.show()"
   ]
  },
  {
   "cell_type": "code",
   "execution_count": 48,
   "id": "b73151fc",
   "metadata": {},
   "outputs": [
    {
     "data": {
      "image/png": "[encoded data removed]",
      "text/plain": [
       "<Figure size 640x480 with 1 Axes>"
      ]
     },
     "metadata": {},
     "output_type": "display_data"
    }
   ],
   "source": [
    "plot_losses(train_losses, val_losses)"
   ]
  },
  {
   "cell_type": "code",
   "execution_count": 49,
   "id": "bc673324",
   "metadata": {},
   "outputs": [],
   "source": [
    "def plot_predictions(net, data_loader, device):\n",
    "    net.eval()\n",
    "    y_true = []\n",
    "    y_pred = []\n",
    "    with torch.no_grad():\n",
    "        for inputs, targets in data_loader:\n",
    "            inputs, targets = inputs.to(device), targets.to(device).view(-1, 1)\n",
    "            outputs = net(inputs)\n",
    "            y_true.extend(targets.cpu().numpy())\n",
    "            y_pred.extend(outputs.cpu().numpy())\n",
    "\n",
    "    plt.scatter(y_true, y_pred)\n",
    "    plt.xlabel(\"True Values\")\n",
    "    plt.ylabel(\"Predictions\")\n",
    "    plt.show()\n",
    "\n",
    "def r_squared(y_true, y_pred):\n",
    "    y_bar = np.mean(y_true)\n",
    "    ss_tot = np.sum((y_true - y_bar) ** 2)\n",
    "    ss_res = np.sum((y_true - y_pred) ** 2)\n",
    "    r2 = 1 - (ss_res / ss_tot)\n",
    "    return r2\n"
   ]
  },
  {
   "cell_type": "code",
   "execution_count": 50,
   "id": "a31aaac4",
   "metadata": {
    "scrolled": false
   },
   "outputs": [
    {
     "data": {
      "image/png": "[encoded data removed]",
      "text/plain": [
       "<Figure size 640x480 with 1 Axes>"
      ]
     },
     "metadata": {},
     "output_type": "display_data"
    },
    {
     "data": {
      "image/png": "[encoded data removed]",
      "text/plain": [
       "<Figure size 640x480 with 1 Axes>"
      ]
     },
     "metadata": {},
     "output_type": "display_data"
    },
    {
     "name": "stdout",
     "output_type": "stream",
     "text": [
      "R^2 score: 0.9821588577235638\n",
      "Train_loss: 6.924129009246826\n",
      "Validation_loss: 6.927171230316162\n",
      "Test_loss: 6.888339042663574\n"
     ]
    }
   ],
   "source": [
    "#train_losses, test_losses = train(config)\n",
    "plot_losses(train_losses, val_losses)\n",
    "plot_predictions(mod, test_loader, device)\n",
    "y_true = y_test\n",
    "y_pred = mod(torch.Tensor(X_test_scaled).to(device)).cpu().detach().numpy()\n",
    "r2 = r2_score(y_true, y_pred)\n",
    "print(\"R^2 score:\", r2)\n",
    "y_train_tensor = torch.Tensor(y_train.values).to(device)\n",
    "y_val_tensor = torch.Tensor(y_val.values).to(device)\n",
    "y_test_tensor = torch.Tensor(y_test.values).to(device)\n",
    "print(\"Train_loss:\",criterion(mod(torch.Tensor(X_train_scaled).to(device)),y_train_tensor).item())\n",
    "print(\"Validation_loss:\",criterion(mod(torch.Tensor(X_val_scaled).to(device)),y_val_tensor).item())\n",
    "print(\"Test_loss:\",criterion(mod(torch.Tensor(X_test_scaled).to(device)),y_test_tensor).item())\n",
    "\n"
   ]
  },
  {
   "cell_type": "code",
   "execution_count": 41,
   "id": "8be567ac",
   "metadata": {},
   "outputs": [
    {
     "data": {
      "text/plain": [
       "Net(\n",
       "  (net): Sequential(\n",
       "    (0): BatchNorm1d(5, eps=1e-05, momentum=0.1, affine=True, track_running_stats=True)\n",
       "    (1): Linear(in_features=5, out_features=64, bias=True)\n",
       "    (2): ReLU()\n",
       "    (3): Linear(in_features=64, out_features=32, bias=True)\n",
       "    (4): ReLU()\n",
       "    (5): Linear(in_features=32, out_features=32, bias=True)\n",
       "    (6): ReLU()\n",
       "    (7): Linear(in_features=32, out_features=1, bias=True)\n",
       "  )\n",
       ")"
      ]
     },
     "execution_count": 41,
     "metadata": {},
     "output_type": "execute_result"
    }
   ],
   "source": [
    "mod"
   ]
  },
  {
   "cell_type": "code",
   "execution_count": 51,
   "id": "23909b6b",
   "metadata": {},
   "outputs": [],
   "source": [
    "torch.save(mod.state_dict(), '../../Models/toy_model_confounder_9821')"
   ]
  },
  {
   "cell_type": "code",
   "execution_count": 58,
   "id": "356dc0fd",
   "metadata": {},
   "outputs": [
    {
     "data": {
      "text/plain": [
       "Net(\n",
       "  (net): Sequential(\n",
       "    (0): BatchNorm1d(5, eps=1e-05, momentum=0.1, affine=True, track_running_stats=True)\n",
       "    (1): Linear(in_features=5, out_features=64, bias=True)\n",
       "    (2): ReLU()\n",
       "    (3): Linear(in_features=64, out_features=32, bias=True)\n",
       "    (4): ReLU()\n",
       "    (5): Linear(in_features=32, out_features=32, bias=True)\n",
       "    (6): ReLU()\n",
       "    (7): Linear(in_features=32, out_features=1, bias=True)\n",
       "  )\n",
       ")"
      ]
     },
     "execution_count": 58,
     "metadata": {},
     "output_type": "execute_result"
    }
   ],
   "source": [
    "net.load_state_dict(torch.load('./Models/toy_model_confounder'))\n",
    "net.eval()"
   ]
  },
  {
   "cell_type": "code",
   "execution_count": null,
   "id": "b3940f25",
   "metadata": {},
   "outputs": [],
   "source": []
  }
 ],
 "metadata": {
  "kernelspec": {
   "display_name": "Python 3 (ipykernel)",
   "language": "python",
   "name": "python3"
  },
  "language_info": {
   "codemirror_mode": {
    "name": "ipython",
    "version": 3
   },
   "file_extension": ".py",
   "mimetype": "text/x-python",
   "name": "python",
   "nbconvert_exporter": "python",
   "pygments_lexer": "ipython3",
   "version": "3.9.13"
  }
 },
 "nbformat": 4,
 "nbformat_minor": 5
}
